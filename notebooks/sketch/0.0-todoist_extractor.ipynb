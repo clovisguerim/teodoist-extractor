{
 "cells": [
  {
   "cell_type": "code",
   "execution_count": 168,
   "metadata": {},
   "outputs": [],
   "source": [
    "#pip install todoist-python\n",
    "from todoist import TodoistAPI, models\n",
    "import pandas as pd\n",
    "import numpy as np\n",
    "from dotenv import load_dotenv, dotenv_values\n",
    "pd.set_option('display.max_rows', 100)\n",
    "pd.set_option('display.float_format', lambda x: '%.0f' % x)"
   ]
  },
  {
   "cell_type": "code",
   "execution_count": 169,
   "metadata": {},
   "outputs": [],
   "source": [
    "credentials = dotenv_values('../../usage/.env')"
   ]
  },
  {
   "cell_type": "code",
   "execution_count": 170,
   "metadata": {},
   "outputs": [
    {
     "data": {
      "text/plain": [
       "{'collaborator_states': [],\n",
       " 'collaborators': [],\n",
       " 'day_orders': {},\n",
       " 'day_orders_timestamp': '1649513087.7174382',\n",
       " 'due_exceptions': [],\n",
       " 'filters': [],\n",
       " 'full_sync': False,\n",
       " 'items': [],\n",
       " 'labels': [],\n",
       " 'live_notifications': [],\n",
       " 'live_notifications_last_read_id': 2456784820,\n",
       " 'notes': [],\n",
       " 'project_notes': [],\n",
       " 'projects': [],\n",
       " 'reminders': [],\n",
       " 'sections': [],\n",
       " 'sync_token': 'XS4jFCEsW4Wu99JUhcQ7tqIdv0RZyCyZdZqWj-BrBaaXD4XK1jGLfPrLwFyMm9eRsdIT4mukOE8HPtT41OZzANhLN9SNMHKp22QKx39je89LkKk',\n",
       " 'temp_id_mapping': {},\n",
       " 'view_options': []}"
      ]
     },
     "execution_count": 170,
     "metadata": {},
     "output_type": "execute_result"
    }
   ],
   "source": [
    "api = TodoistAPI(credentials[\"TOKEN\"])\n",
    "api.sync()"
   ]
  },
  {
   "cell_type": "code",
   "execution_count": 171,
   "metadata": {},
   "outputs": [],
   "source": [
    "def get_todoist_activities(api, pages, limit=100):\n",
    "    activities = pd.DataFrame()\n",
    "    for p in range(pages):\n",
    "        if p > 0:\n",
    "            activities = all_activities\n",
    "        activities_on_page_df = pd.DataFrame(api.activity.get(page=p, limit=100)['events'])                                                                       \n",
    "        all_activities = pd.concat([activities, activities_on_page_df])\n",
    "    return all_activities\n",
    "\n",
    "def get_parent_id(api, object_id):\n",
    "    object_id = str(object_id)\n",
    "    info_list = [api.items.get_by_id(object_id)] \n",
    "    for item in info_list:\n",
    "        try:\n",
    "            if ('item' in item.keys()) and ('parent_id' in item['item'].keys()):\n",
    "                return item['item']['parent_id']\n",
    "        except AttributeError:\n",
    "            return None"
   ]
  },
  {
   "cell_type": "code",
   "execution_count": 172,
   "metadata": {},
   "outputs": [],
   "source": [
    "df = get_todoist_activities(api, pages=30, limit=100)"
   ]
  },
  {
   "cell_type": "code",
   "execution_count": 173,
   "metadata": {},
   "outputs": [],
   "source": [
    "df['content'] = df['extra_data'].apply(lambda x: x['content'] if 'content' in x.keys() else None)\n",
    "df['due_date'] = df['extra_data'].apply(lambda x: x['due_date'] if 'due_date' in x.keys() else None)\n",
    "df['name'] = df['extra_data'].apply(lambda x: x['name'] if 'name' in x.keys() else None)\n",
    "object_id_list = [get_parent_id(api, idd) for idd in df['object_id'].unique()]\n",
    "parent_id_dp = pd.DataFrame([object_id_list, df['object_id'].unique()]).T\n",
    "parent_id_dp = parent_id_dp.rename(columns={0:'parent_id', 1: 'object_id'}).astype(int, errors='ignore')\n",
    "df = df.merge(parent_id_dp, on='object_id')"
   ]
  },
  {
   "cell_type": "code",
   "execution_count": 174,
   "metadata": {},
   "outputs": [
    {
     "data": {
      "text/plain": [
       "('2021-09-26T13:08:43Z', '2022-04-09T16:07:55Z')"
      ]
     },
     "execution_count": 174,
     "metadata": {},
     "output_type": "execute_result"
    }
   ],
   "source": [
    "df['event_date'].min(), df['event_date'].max()"
   ]
  },
  {
   "cell_type": "code",
   "execution_count": 175,
   "metadata": {},
   "outputs": [
    {
     "data": {
      "text/html": [
       "<div>\n",
       "<style scoped>\n",
       "    .dataframe tbody tr th:only-of-type {\n",
       "        vertical-align: middle;\n",
       "    }\n",
       "\n",
       "    .dataframe tbody tr th {\n",
       "        vertical-align: top;\n",
       "    }\n",
       "\n",
       "    .dataframe thead th {\n",
       "        text-align: right;\n",
       "    }\n",
       "</style>\n",
       "<table border=\"1\" class=\"dataframe\">\n",
       "  <thead>\n",
       "    <tr style=\"text-align: right;\">\n",
       "      <th></th>\n",
       "      <th>event_date</th>\n",
       "      <th>event_type</th>\n",
       "      <th>extra_data</th>\n",
       "      <th>id</th>\n",
       "      <th>initiator_id</th>\n",
       "      <th>object_id</th>\n",
       "      <th>object_type</th>\n",
       "      <th>parent_item_id</th>\n",
       "      <th>parent_project_id</th>\n",
       "      <th>content</th>\n",
       "      <th>due_date</th>\n",
       "      <th>name</th>\n",
       "      <th>parent_id</th>\n",
       "    </tr>\n",
       "  </thead>\n",
       "  <tbody>\n",
       "    <tr>\n",
       "      <th>0</th>\n",
       "      <td>2022-04-09T16:07:55Z</td>\n",
       "      <td>completed</td>\n",
       "      <td>{'client': 'Mozilla/5.0; Todoist/1990', 'conte...</td>\n",
       "      <td>15552099771</td>\n",
       "      <td>NaN</td>\n",
       "      <td>5751064441</td>\n",
       "      <td>item</td>\n",
       "      <td>NaN</td>\n",
       "      <td>2282993091</td>\n",
       "      <td>Figura 5: deixar claro o que (-6,-6) é</td>\n",
       "      <td>None</td>\n",
       "      <td>None</td>\n",
       "      <td>5574607502</td>\n",
       "    </tr>\n",
       "    <tr>\n",
       "      <th>1</th>\n",
       "      <td>2022-04-09T16:02:16Z</td>\n",
       "      <td>added</td>\n",
       "      <td>{'client': 'Mozilla/5.0; Todoist/1990', 'conte...</td>\n",
       "      <td>15552055514</td>\n",
       "      <td>NaN</td>\n",
       "      <td>5751064441</td>\n",
       "      <td>item</td>\n",
       "      <td>NaN</td>\n",
       "      <td>2282993091</td>\n",
       "      <td>Figura 5: deixar claro o que (-6,-6) é</td>\n",
       "      <td>None</td>\n",
       "      <td>None</td>\n",
       "      <td>5574607502</td>\n",
       "    </tr>\n",
       "    <tr>\n",
       "      <th>2</th>\n",
       "      <td>2022-04-09T15:36:52Z</td>\n",
       "      <td>uncompleted</td>\n",
       "      <td>{'client': 'Mozilla/5.0; Todoist/1990', 'conte...</td>\n",
       "      <td>15551859457</td>\n",
       "      <td>NaN</td>\n",
       "      <td>5646876550</td>\n",
       "      <td>item</td>\n",
       "      <td>NaN</td>\n",
       "      <td>2282993091</td>\n",
       "      <td>Deixar so o fit da parabola na figura 7</td>\n",
       "      <td>None</td>\n",
       "      <td>None</td>\n",
       "      <td>5574607502</td>\n",
       "    </tr>\n",
       "    <tr>\n",
       "      <th>3</th>\n",
       "      <td>2022-04-02T21:24:10Z</td>\n",
       "      <td>completed</td>\n",
       "      <td>{'client': 'Mozilla/5.0; Todoist/1981', 'conte...</td>\n",
       "      <td>15463214960</td>\n",
       "      <td>NaN</td>\n",
       "      <td>5646876550</td>\n",
       "      <td>item</td>\n",
       "      <td>NaN</td>\n",
       "      <td>2282993091</td>\n",
       "      <td>Deixar so o fit da parabola na figura 7</td>\n",
       "      <td>None</td>\n",
       "      <td>None</td>\n",
       "      <td>5574607502</td>\n",
       "    </tr>\n",
       "    <tr>\n",
       "      <th>4</th>\n",
       "      <td>2022-03-04T00:48:19Z</td>\n",
       "      <td>added</td>\n",
       "      <td>{'client': 'Mozilla/5.0; Todoist/1923', 'conte...</td>\n",
       "      <td>15089805396</td>\n",
       "      <td>NaN</td>\n",
       "      <td>5646876550</td>\n",
       "      <td>item</td>\n",
       "      <td>NaN</td>\n",
       "      <td>2282993091</td>\n",
       "      <td>Deixar so o fit da parabola na figura 7</td>\n",
       "      <td>None</td>\n",
       "      <td>None</td>\n",
       "      <td>5574607502</td>\n",
       "    </tr>\n",
       "  </tbody>\n",
       "</table>\n",
       "</div>"
      ],
      "text/plain": [
       "             event_date   event_type  \\\n",
       "0  2022-04-09T16:07:55Z    completed   \n",
       "1  2022-04-09T16:02:16Z        added   \n",
       "2  2022-04-09T15:36:52Z  uncompleted   \n",
       "3  2022-04-02T21:24:10Z    completed   \n",
       "4  2022-03-04T00:48:19Z        added   \n",
       "\n",
       "                                          extra_data           id  \\\n",
       "0  {'client': 'Mozilla/5.0; Todoist/1990', 'conte...  15552099771   \n",
       "1  {'client': 'Mozilla/5.0; Todoist/1990', 'conte...  15552055514   \n",
       "2  {'client': 'Mozilla/5.0; Todoist/1990', 'conte...  15551859457   \n",
       "3  {'client': 'Mozilla/5.0; Todoist/1981', 'conte...  15463214960   \n",
       "4  {'client': 'Mozilla/5.0; Todoist/1923', 'conte...  15089805396   \n",
       "\n",
       "  initiator_id   object_id object_type parent_item_id  parent_project_id  \\\n",
       "0          NaN  5751064441        item            NaN         2282993091   \n",
       "1          NaN  5751064441        item            NaN         2282993091   \n",
       "2          NaN  5646876550        item            NaN         2282993091   \n",
       "3          NaN  5646876550        item            NaN         2282993091   \n",
       "4          NaN  5646876550        item            NaN         2282993091   \n",
       "\n",
       "                                   content due_date  name  parent_id  \n",
       "0   Figura 5: deixar claro o que (-6,-6) é     None  None 5574607502  \n",
       "1   Figura 5: deixar claro o que (-6,-6) é     None  None 5574607502  \n",
       "2  Deixar so o fit da parabola na figura 7     None  None 5574607502  \n",
       "3  Deixar so o fit da parabola na figura 7     None  None 5574607502  \n",
       "4  Deixar so o fit da parabola na figura 7     None  None 5574607502  "
      ]
     },
     "execution_count": 175,
     "metadata": {},
     "output_type": "execute_result"
    }
   ],
   "source": [
    "df.head(5)"
   ]
  },
  {
   "cell_type": "code",
   "execution_count": 176,
   "metadata": {},
   "outputs": [],
   "source": [
    "# df.to_csv('../../usage/data/raw/TODOIST-20210926-20220904.csv')"
   ]
  },
  {
   "cell_type": "code",
   "execution_count": null,
   "metadata": {},
   "outputs": [],
   "source": []
  }
 ],
 "metadata": {
  "kernelspec": {
   "display_name": "Python 3 (ipykernel)",
   "language": "python",
   "name": "python3"
  },
  "language_info": {
   "codemirror_mode": {
    "name": "ipython",
    "version": 3
   },
   "file_extension": ".py",
   "mimetype": "text/x-python",
   "name": "python",
   "nbconvert_exporter": "python",
   "pygments_lexer": "ipython3",
   "version": "3.10.4"
  }
 },
 "nbformat": 4,
 "nbformat_minor": 4
}
