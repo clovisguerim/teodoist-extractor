{
 "cells": [
  {
   "cell_type": "code",
   "execution_count": 1,
   "metadata": {},
   "outputs": [],
   "source": [
    "#pip install todoist-python\n",
    "from todoist import TodoistAPI, models\n",
    "import pandas as pd\n",
    "import numpy as np\n",
    "from dotenv import load_dotenv, dotenv_values\n",
    "pd.set_option('display.max_rows', 100)\n",
    "pd.set_option('display.float_format', lambda x: '%.0f' % x)"
   ]
  },
  {
   "cell_type": "code",
   "execution_count": 2,
   "metadata": {},
   "outputs": [],
   "source": [
    "credentials = dotenv_values('../../usage/.env')\n",
    "path_data = \"../../usage/data/\""
   ]
  },
  {
   "cell_type": "code",
   "execution_count": 3,
   "metadata": {},
   "outputs": [],
   "source": [
    "api = TodoistAPI(credentials[\"TOKEN\"])\n",
    "s = api.sync()"
   ]
  },
  {
   "cell_type": "code",
   "execution_count": 4,
   "metadata": {},
   "outputs": [],
   "source": [
    "def get_todoist_activities(api, pages, limit=100):\n",
    "    activities = pd.DataFrame()\n",
    "    for p in range(pages):\n",
    "        if p > 0:\n",
    "            activities = all_activities\n",
    "        activities_on_page_df = pd.DataFrame(api.activity.get(page=p, limit=100)['events'])                                                                       \n",
    "        all_activities = pd.concat([activities, activities_on_page_df])\n",
    "    return all_activities\n",
    "\n",
    "def get_parent_id(api, object_id):\n",
    "    object_id = str(object_id)\n",
    "    info_list = [api.items.get_by_id(object_id)] \n",
    "    for item in info_list:\n",
    "        try:\n",
    "            if ('item' in item.keys()) and ('parent_id' in item['item'].keys()):\n",
    "                return item['item']['parent_id']\n",
    "        except AttributeError:\n",
    "            return None"
   ]
  },
  {
   "cell_type": "code",
   "execution_count": 5,
   "metadata": {},
   "outputs": [],
   "source": [
    "df = get_todoist_activities(api, pages=5, limit=100)"
   ]
  },
  {
   "cell_type": "code",
   "execution_count": 6,
   "metadata": {},
   "outputs": [],
   "source": [
    "df['content'] = df['extra_data'].apply(lambda x: x['content'] if 'content' in x.keys() else None)\n",
    "df['due_date'] = df['extra_data'].apply(lambda x: x['due_date'] if 'due_date' in x.keys() else None)\n",
    "df['name'] = df['extra_data'].apply(lambda x: x['name'] if 'name' in x.keys() else None)\n",
    "object_id_list = [get_parent_id(api, idd) for idd in df['object_id'].unique()]\n",
    "parent_id_dp = pd.DataFrame([object_id_list, df['object_id'].unique()]).T\n",
    "parent_id_dp = parent_id_dp.rename(columns={0:'parent_id', 1: 'object_id'}).astype(int, errors='ignore')\n",
    "df = df.merge(parent_id_dp, on='object_id')"
   ]
  },
  {
   "cell_type": "code",
   "execution_count": 146,
   "metadata": {},
   "outputs": [
    {
     "data": {
      "text/plain": [
       "('2022-03-14T12:25:37Z', '2022-04-14T23:05:58Z')"
      ]
     },
     "execution_count": 146,
     "metadata": {},
     "output_type": "execute_result"
    }
   ],
   "source": [
    "df['event_date'].min(), df['event_date'].max()"
   ]
  },
  {
   "cell_type": "code",
   "execution_count": 7,
   "metadata": {},
   "outputs": [
    {
     "data": {
      "text/plain": [
       "('2022-03-23T16:17:08Z', '2022-04-19T12:49:38Z')"
      ]
     },
     "execution_count": 7,
     "metadata": {},
     "output_type": "execute_result"
    }
   ],
   "source": [
    "df['event_date'].min(), df['event_date'].max()"
   ]
  },
  {
   "cell_type": "code",
   "execution_count": 8,
   "metadata": {},
   "outputs": [
    {
     "data": {
      "text/html": [
       "<div>\n",
       "<style scoped>\n",
       "    .dataframe tbody tr th:only-of-type {\n",
       "        vertical-align: middle;\n",
       "    }\n",
       "\n",
       "    .dataframe tbody tr th {\n",
       "        vertical-align: top;\n",
       "    }\n",
       "\n",
       "    .dataframe thead th {\n",
       "        text-align: right;\n",
       "    }\n",
       "</style>\n",
       "<table border=\"1\" class=\"dataframe\">\n",
       "  <thead>\n",
       "    <tr style=\"text-align: right;\">\n",
       "      <th></th>\n",
       "      <th>event_date</th>\n",
       "      <th>event_type</th>\n",
       "      <th>extra_data</th>\n",
       "      <th>id</th>\n",
       "      <th>initiator_id</th>\n",
       "      <th>object_id</th>\n",
       "      <th>object_type</th>\n",
       "      <th>parent_item_id</th>\n",
       "      <th>parent_project_id</th>\n",
       "      <th>content</th>\n",
       "      <th>due_date</th>\n",
       "      <th>name</th>\n",
       "      <th>parent_id</th>\n",
       "    </tr>\n",
       "  </thead>\n",
       "  <tbody>\n",
       "    <tr>\n",
       "      <th>0</th>\n",
       "      <td>2022-04-19T12:49:38Z</td>\n",
       "      <td>completed</td>\n",
       "      <td>{'client': 'Mozilla/5.0; Todoist/1998', 'conte...</td>\n",
       "      <td>15669775765</td>\n",
       "      <td>NaN</td>\n",
       "      <td>5711662561</td>\n",
       "      <td>item</td>\n",
       "      <td>NaN</td>\n",
       "      <td>2288032544</td>\n",
       "      <td>Fazer exercícios (1)</td>\n",
       "      <td>None</td>\n",
       "      <td>None</td>\n",
       "      <td>NaN</td>\n",
       "    </tr>\n",
       "    <tr>\n",
       "      <th>1</th>\n",
       "      <td>2022-04-19T03:12:19Z</td>\n",
       "      <td>updated</td>\n",
       "      <td>{'client': 'Todoist-Android/v9520', 'content':...</td>\n",
       "      <td>15663958368</td>\n",
       "      <td>NaN</td>\n",
       "      <td>5711662561</td>\n",
       "      <td>item</td>\n",
       "      <td>NaN</td>\n",
       "      <td>2288032544</td>\n",
       "      <td>Fazer exercícios (1)</td>\n",
       "      <td>2022-04-20T02:59:59Z</td>\n",
       "      <td>None</td>\n",
       "      <td>NaN</td>\n",
       "    </tr>\n",
       "    <tr>\n",
       "      <th>2</th>\n",
       "      <td>2022-04-18T12:15:13Z</td>\n",
       "      <td>updated</td>\n",
       "      <td>{'client': 'Todoist-Android/v9520', 'content':...</td>\n",
       "      <td>15655204747</td>\n",
       "      <td>NaN</td>\n",
       "      <td>5711662561</td>\n",
       "      <td>item</td>\n",
       "      <td>NaN</td>\n",
       "      <td>2288032544</td>\n",
       "      <td>Fazer exercícios (1)</td>\n",
       "      <td>2022-04-19T02:59:59Z</td>\n",
       "      <td>None</td>\n",
       "      <td>NaN</td>\n",
       "    </tr>\n",
       "    <tr>\n",
       "      <th>3</th>\n",
       "      <td>2022-04-16T10:39:13Z</td>\n",
       "      <td>updated</td>\n",
       "      <td>{'client': 'Todoist-Android/v9498', 'content':...</td>\n",
       "      <td>15636570150</td>\n",
       "      <td>NaN</td>\n",
       "      <td>5711662561</td>\n",
       "      <td>item</td>\n",
       "      <td>NaN</td>\n",
       "      <td>2288032544</td>\n",
       "      <td>Fazer exercícios (1)</td>\n",
       "      <td>2022-04-17T02:59:59Z</td>\n",
       "      <td>None</td>\n",
       "      <td>NaN</td>\n",
       "    </tr>\n",
       "    <tr>\n",
       "      <th>4</th>\n",
       "      <td>2022-04-15T01:20:28Z</td>\n",
       "      <td>updated</td>\n",
       "      <td>{'client': 'Mozilla/5.0; Todoist/1998', 'conte...</td>\n",
       "      <td>15622673622</td>\n",
       "      <td>NaN</td>\n",
       "      <td>5711662561</td>\n",
       "      <td>item</td>\n",
       "      <td>NaN</td>\n",
       "      <td>2288032544</td>\n",
       "      <td>Fazer exercícios (1)</td>\n",
       "      <td>2022-04-16T02:59:59Z</td>\n",
       "      <td>None</td>\n",
       "      <td>NaN</td>\n",
       "    </tr>\n",
       "  </tbody>\n",
       "</table>\n",
       "</div>"
      ],
      "text/plain": [
       "             event_date event_type  \\\n",
       "0  2022-04-19T12:49:38Z  completed   \n",
       "1  2022-04-19T03:12:19Z    updated   \n",
       "2  2022-04-18T12:15:13Z    updated   \n",
       "3  2022-04-16T10:39:13Z    updated   \n",
       "4  2022-04-15T01:20:28Z    updated   \n",
       "\n",
       "                                          extra_data           id  \\\n",
       "0  {'client': 'Mozilla/5.0; Todoist/1998', 'conte...  15669775765   \n",
       "1  {'client': 'Todoist-Android/v9520', 'content':...  15663958368   \n",
       "2  {'client': 'Todoist-Android/v9520', 'content':...  15655204747   \n",
       "3  {'client': 'Todoist-Android/v9498', 'content':...  15636570150   \n",
       "4  {'client': 'Mozilla/5.0; Todoist/1998', 'conte...  15622673622   \n",
       "\n",
       "   initiator_id   object_id object_type  parent_item_id  parent_project_id  \\\n",
       "0           NaN  5711662561        item             NaN         2288032544   \n",
       "1           NaN  5711662561        item             NaN         2288032544   \n",
       "2           NaN  5711662561        item             NaN         2288032544   \n",
       "3           NaN  5711662561        item             NaN         2288032544   \n",
       "4           NaN  5711662561        item             NaN         2288032544   \n",
       "\n",
       "                content              due_date  name  parent_id  \n",
       "0  Fazer exercícios (1)                  None  None        NaN  \n",
       "1  Fazer exercícios (1)  2022-04-20T02:59:59Z  None        NaN  \n",
       "2  Fazer exercícios (1)  2022-04-19T02:59:59Z  None        NaN  \n",
       "3  Fazer exercícios (1)  2022-04-17T02:59:59Z  None        NaN  \n",
       "4  Fazer exercícios (1)  2022-04-16T02:59:59Z  None        NaN  "
      ]
     },
     "execution_count": 8,
     "metadata": {},
     "output_type": "execute_result"
    }
   ],
   "source": [
    "df.head(5)"
   ]
  },
  {
   "cell_type": "code",
   "execution_count": 9,
   "metadata": {},
   "outputs": [
    {
     "name": "stdout",
     "output_type": "stream",
     "text": [
      "TODOIST-20220414-20220419.csv\n"
     ]
    }
   ],
   "source": [
    "# Pega o arquivo com name enddate mais rescente\n",
    "from glob import glob\n",
    "import os\n",
    "from datetime import date, datetime, timedelta\n",
    "glob_search = f\"{path_data}*.csv\"\n",
    "\n",
    "max_dates_on_folder = [\n",
    "    d.split(\"/\")[-1].split('-')[-1].split('.')[0] for d in glob(glob_search)\n",
    "]\n",
    "def get_min_diff_date_from_today(list_of_dates):\n",
    "    diff_dates = {\n",
    "        datetime.today() - datetime.strptime(d,\"%Y%m%d\" ):d \n",
    "        for d in list_of_dates\n",
    "    }\n",
    "    min_diff = min(list(diff_dates.keys()))\n",
    "    return diff_dates[min_diff]\n",
    "    \n",
    "current_state_date = get_min_diff_date_from_today(max_dates_on_folder)\n",
    "\n",
    "# filtra os registros que derem match com a data\n",
    "\n",
    "df['event_date_formated'] = pd.to_datetime(\n",
    "    df['event_date'], infer_datetime_format=True\n",
    ").dt.strftime(\"%Y%m%d\" )\n",
    "df_new = df[df['event_date_formated'] >= current_state_date]\n",
    "dates_to_dave_file = df_new['event_date_formated'].min(), df_new['event_date_formated'].max()\n",
    "\n",
    "file_name = f\"TODOIST-{dates_to_dave_file[0]}-{dates_to_dave_file[1]}.csv\"\n",
    "\n",
    "print(file_name)\n",
    "\n",
    "df_new = df_new.drop('event_date_formated', axis=1)\n",
    "#Salva novo df\n"
   ]
  },
  {
   "cell_type": "code",
   "execution_count": 10,
   "metadata": {},
   "outputs": [],
   "source": [
    "df_new.to_csv(os.path.join(path_data,file_name), index=False)"
   ]
  },
  {
   "cell_type": "code",
   "execution_count": null,
   "metadata": {},
   "outputs": [],
   "source": []
  }
 ],
 "metadata": {
  "kernelspec": {
   "display_name": "Python 3 (ipykernel)",
   "language": "python",
   "name": "python3"
  },
  "language_info": {
   "codemirror_mode": {
    "name": "ipython",
    "version": 3
   },
   "file_extension": ".py",
   "mimetype": "text/x-python",
   "name": "python",
   "nbconvert_exporter": "python",
   "pygments_lexer": "ipython3",
   "version": "3.8.10"
  }
 },
 "nbformat": 4,
 "nbformat_minor": 4
}
